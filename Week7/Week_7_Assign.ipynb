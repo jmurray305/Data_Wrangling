{
 "cells": [
  {
   "cell_type": "markdown",
   "metadata": {},
   "source": [
    "# Week 7 Assignment\n",
    "\n",
    "This week's assignment you will be working with NOAAs weather API. This API will allow you to retrieve a variety of data from a specific weather station(s), of your choice.\n",
    "\n",
    "API Documentation: https://www.ncdc.noaa.gov/cdo-web/webservices/v2#gettingStarted"
   ]
  },
  {
   "cell_type": "markdown",
   "metadata": {},
   "source": [
    "As the API documentation page states, you will need to register for your own credentials. Following the instructions at https://www.ncdc.noaa.gov/cdo-web/token to register.\n",
    "\n",
    "<div class=\"alert alert-block alert-danger\">\n",
    "<b>Important::</b> You can remove the following cell and use the commented out cell just below to load your Twitter credentials. The auth2.csv will not be provided to you. Please notice that the individual credential fields are stored as strings.\n",
    "</div>"
   ]
  },
  {
   "cell_type": "code",
   "execution_count": null,
   "metadata": {},
   "outputs": [],
   "source": [
    "### Remove or comment out this cell\n",
    "import pandas as pd\n",
    "\n",
    "# loading my specific credentials\n",
    "data = pd.read_csv('auth2.csv',header=0)\n",
    "# setting up some variables for Twitter. \n",
    "my_token = data['token'][0]"
   ]
  },
  {
   "cell_type": "code",
   "execution_count": null,
   "metadata": {},
   "outputs": [],
   "source": [
    "my_token"
   ]
  },
  {
   "cell_type": "code",
   "execution_count": null,
   "metadata": {},
   "outputs": [],
   "source": [
    "# ### You should uncomment this cell and use your credentials from NOAA\n",
    "\n",
    "# # smy credentials for NOAA API. \n",
    "#my_token = ''"
   ]
  },
  {
   "cell_type": "markdown",
   "metadata": {},
   "source": [
    "Now we need to determine a weather station that we would like to retrieve our data for. Use the following link to get the id for a NOAA weather station. https://www.ncdc.noaa.gov/cdo-web/datatools/findstation\n",
    "\n",
    "Fill out all field based on your preferences. I used:\n",
    "   * Location: CO\n",
    "   * Dataset: Daily Summaries\n",
    "   * Data Range: 2019-11-01 to 20019-11-30\n",
    "   * Data Category: Air Temperature\n"
   ]
  },
  {
   "cell_type": "markdown",
   "metadata": {},
   "source": [
    "<img align=\"left\" style=\"padding-right:10px;\" src=\"figures_7/NOAA_find_station_query.png\" >"
   ]
  },
  {
   "cell_type": "markdown",
   "metadata": {},
   "source": [
    "#### Click on 'Full Details' to see all the information\n",
    "<img align=\"left\" style=\"padding-right:10px;\" src=\"figures_7/NOAA_find_station_result.png\" ><br>"
   ]
  },
  {
   "cell_type": "markdown",
   "metadata": {},
   "source": [
    "From the Find A Station results, we will need to capture the following details:\n",
    "   * Capture the values within the 'Network' and 'Id' fields (second cell from top, split on ':')"
   ]
  },
  {
   "cell_type": "code",
   "execution_count": null,
   "metadata": {},
   "outputs": [],
   "source": [
    "# variables based on my station search\n",
    "network = 'GHCND'\n",
    "ID = 'USW00023066'\n",
    "\n",
    "\n",
    "# station_id = network:ID\n",
    "station_id = network + ':' + ID\n",
    "print(station_id)\n"
   ]
  },
  {
   "cell_type": "markdown",
   "metadata": {},
   "source": [
    "### What type of data are we looking for?\n",
    "At this point we need to determine what type of data we want to retrieve. We can actually use the NOAAs API to help determine what is available for this station.\n",
    "\n",
    "One of the documentation pages https://www.ncdc.noaa.gov/cdo-web/webservices/v2#dataTypes shows us how to query for the available datatypes for the station we have chosen above.\n",
    "\n",
    "As we saw in the FTE, we can build a dictionary of parameters to be used in our request."
   ]
  },
  {
   "cell_type": "code",
   "execution_count": null,
   "metadata": {},
   "outputs": [],
   "source": [
    "import requests\n",
    "import json\n",
    "\n",
    "# building the parameter dictionary\n",
    "# 'limit = 1000' --> What does this do? Look at the NOAA API documentation\n",
    "data = {}\n",
    "data = {'limit':'1000', 'datasetid': network, 'station_id': station_id}\n",
    "\n",
    "# calling NOAA API to get the available datatypes for this specific station\n",
    "r = requests.get('https://www.ncdc.noaa.gov/cdo-web/api/v2/datatypes',params = data, headers = {'token':my_token})"
   ]
  },
  {
   "cell_type": "markdown",
   "metadata": {},
   "source": [
    "Now we need to convert the JSON output from the request to something more readable"
   ]
  },
  {
   "cell_type": "code",
   "execution_count": null,
   "metadata": {},
   "outputs": [],
   "source": [
    "# JSON to dictionary\n",
    "datatypes_dict = json.loads(r.text)\n",
    "\n",
    "# need the keys from this dictionary\n",
    "datatypes_dict.keys()\n"
   ]
  },
  {
   "cell_type": "markdown",
   "metadata": {},
   "source": [
    "I'm going to guess that the information we are after is stored in the results key.  Let's look at the first 5 and see if we might be right"
   ]
  },
  {
   "cell_type": "code",
   "execution_count": null,
   "metadata": {
    "scrolled": true
   },
   "outputs": [],
   "source": [
    "# datatypes_dict['results']\n",
    "datatypes_dict"
   ]
  },
  {
   "cell_type": "markdown",
   "metadata": {},
   "source": [
    "So, the results appear to be a list of dictionaries. \n",
    "\n",
    "<div class=\"alert alert-block alert-warning\">\n",
    "<b>Note:</b>  I'll leave parsing through all of these as an exercise for you to do.  I already did this seperately and determined I will be using the datatype set of 'TAVG' which is average temp and is available for the year of 2018.\n",
    "</div>"
   ]
  },
  {
   "cell_type": "code",
   "execution_count": null,
   "metadata": {},
   "outputs": [],
   "source": [
    "data = {}\n",
    "data = {'limit':'1000', 'datasetid': network, 'stationid': station_id}\n",
    "\n",
    "\n",
    "# append additional parameters to data dictionary\n",
    "# WT03 => Thunder\n",
    "# SNOW => Snow\n",
    "data.update({'datatypeid': 'SNOW'})\n",
    "data.update({'startdate': '2018-01-01'})\n",
    "data.update({'enddate': '2018-12-31'})\n",
    "data.update({'units':'standard'})\n",
    "data"
   ]
  },
  {
   "cell_type": "code",
   "execution_count": null,
   "metadata": {},
   "outputs": [],
   "source": [
    "# make the request to get our year of data\n",
    "r = requests.get('https://www.ncdc.noaa.gov/cdo-web/api/v2/data',params = data, headers = {'token':my_token})\n",
    "\n",
    "#load the api response as a json\n",
    "avg_snow_2018_dict = json.loads(r.text)"
   ]
  },
  {
   "cell_type": "code",
   "execution_count": null,
   "metadata": {
    "scrolled": true
   },
   "outputs": [],
   "source": [
    "avg_snow_2018_dict"
   ]
  },
  {
   "cell_type": "code",
   "execution_count": null,
   "metadata": {
    "scrolled": true
   },
   "outputs": [],
   "source": [
    "# look at the first record of our data\n",
    "avg_snow_2018_dict['results'][:10]"
   ]
  },
  {
   "cell_type": "markdown",
   "metadata": {},
   "source": [
    "Looks like we have daily data and the 'value' key appears to contain a number that seems reasonable for temperature.\n",
    "\n",
    "Let's just verify that we got a record for everyday of 2018"
   ]
  },
  {
   "cell_type": "code",
   "execution_count": null,
   "metadata": {},
   "outputs": [],
   "source": [
    "# there were 365 days in 2018\n",
    "len(avg_snow_2018_dict['results'])"
   ]
  },
  {
   "cell_type": "code",
   "execution_count": null,
   "metadata": {},
   "outputs": [],
   "source": [
    "# look at the first and last day\n",
    "print(avg_snow_2018_dict['results'][0])\n",
    "print(avg_snow_2018_dict['results'][364])"
   ]
  },
  {
   "cell_type": "markdown",
   "metadata": {},
   "source": [
    "### Requirements for the assignment\n",
    "Using the NOAA API, retrieve data for a weather station of your choice.  Based on the station you pick, \n",
    "   * Determine an appropriate dataset \n",
    "   * Determine an appropriatedataset type\n",
    "   * Pull at least 3 years worth of data.<br>\n",
    "     Note: if you pick an annual dataset, you will need to pull at least 25 years worth of data.\n",
    "   * Organize your results into a meaningful representation\n",
    "   * Store your result in one of the followinf formats:\n",
    "      - csv file\n",
    "      - json file\n",
    "      - relational database\n",
    "\n",
    "\n",
    "\n",
    "\n"
   ]
  },
  {
   "cell_type": "markdown",
   "metadata": {},
   "source": [
    "<div class=\"alert alert-block alert-danger\">\n",
    "<b>Important::</b> You MAY NOT reuse the station or datasettype that was demostrated above. This means the following are off limits: \n",
    "    \n",
    "   * ID = 'USW00023129'\n",
    "   * datatypeid = 'TAVG'\n",
    "\n",
    "</div>"
   ]
  },
  {
   "cell_type": "markdown",
   "metadata": {},
   "source": [
    "<div class=\"alert alert-block alert-warning\">\n",
    "<b>Hint:</b> The NOAA API will only allow you to pull one year of data at a time.\n",
    "</div>"
   ]
  },
  {
   "cell_type": "markdown",
   "metadata": {},
   "source": [
    "I changed the data above to test out the API workflow and parameters. But lets start all over!"
   ]
  },
  {
   "cell_type": "code",
   "execution_count": 1,
   "metadata": {},
   "outputs": [],
   "source": [
    "import pandas as pd\n",
    "import requests\n",
    "import json\n",
    "\n",
    "# loading my specific credentials\n",
    "data = pd.read_csv('auth2.csv',header=0)\n",
    "\n",
    "#setting my token to a variable \n",
    "my_token = data['token'][0]\n",
    "\n",
    "#Setting my Station ID => Grand Junction, Mesa County, Colorado\n",
    "network = 'GHCND'\n",
    "ID = 'USW00023066'\n",
    "\n",
    "# station_id = network:ID\n",
    "station_id = network + ':' + ID\n",
    "\n",
    "data = {'limit': '1000',\n",
    "        'datasetid': network,\n",
    "        'stationid': station_id,\n",
    "        'datatypeid': 'SNOW',\n",
    "        'startdate': '2018-01-01',\n",
    "        'enddate': '2018-12-31',\n",
    "        'units': 'standard'}"
   ]
  },
  {
   "cell_type": "code",
   "execution_count": 2,
   "metadata": {},
   "outputs": [
    {
     "name": "stdout",
     "output_type": "stream",
     "text": [
      "working on2016\n",
      "working on2017\n",
      "working on2018\n",
      "working on2019\n"
     ]
    }
   ],
   "source": [
    "api_data = []\n",
    "for x in range(2016, 2020):\n",
    "    print('working on ' + str(x))\n",
    "    startupdate = str(x) + '-01-01'\n",
    "    endupdate = str(x) + '-12-31'\n",
    "    data.update({'startdate': startupdate})\n",
    "    data.update({'enddate': endupdate})\n",
    "    r = requests.get('https://www.ncdc.noaa.gov/cdo-web/api/v2/data',params = data, headers = {'token':my_token})\n",
    "    api_data.append(json.loads(r.text))\n"
   ]
  },
  {
   "cell_type": "code",
   "execution_count": 4,
   "metadata": {
    "scrolled": true
   },
   "outputs": [],
   "source": [
    "with open('api_data.txt', 'w') as outfile:\n",
    "    json.dump(api_data, outfile)"
   ]
  },
  {
   "cell_type": "code",
   "execution_count": 13,
   "metadata": {},
   "outputs": [],
   "source": [
    "def get_api(url, startdate, enddate, datatype):\n",
    "    '''Will return a json object with your selected params provide in your data dictionary for requirments for this \n",
    "    api. currently the dict should be set to  limit = 1000' and 'units': 'standard'. The following params can be changed\n",
    "    'datasetid': network, 'stationid': station_id, 'datatypeid': 'SNOW' to the data you want to return.\n",
    "    '''\n",
    "    api_data = []\n",
    "    data.update({'datatypeid': datatype})\n",
    "    for x in range(startdate, enddate + 1):\n",
    "        print('working on ' + str(x))\n",
    "        startupdate1 = str(x) + '-01-01'\n",
    "        endupdate1 = str(x) + '-12-31'\n",
    "        data.update({'startdate': startupdate1})\n",
    "        data.update({'enddate': endupdate1})\n",
    "        r = requests.get(url,params = data, headers = {'token':my_token})\n",
    "        api_data.append(json.loads(r.text))\n",
    "    return api_data"
   ]
  },
  {
   "cell_type": "code",
   "execution_count": 14,
   "metadata": {},
   "outputs": [
    {
     "name": "stdout",
     "output_type": "stream",
     "text": [
      "working on 2016\n",
      "working on 2017\n",
      "working on 2018\n",
      "working on 2019\n"
     ]
    }
   ],
   "source": [
    "test2 = get_api('https://www.ncdc.noaa.gov/cdo-web/api/v2/data',2016,2019,'PRCP')"
   ]
  }
 ],
 "metadata": {
  "kernelspec": {
   "display_name": "Python 3",
   "language": "python",
   "name": "python3"
  },
  "language_info": {
   "codemirror_mode": {
    "name": "ipython",
    "version": 3
   },
   "file_extension": ".py",
   "mimetype": "text/x-python",
   "name": "python",
   "nbconvert_exporter": "python",
   "pygments_lexer": "ipython3",
   "version": "3.7.4"
  }
 },
 "nbformat": 4,
 "nbformat_minor": 4
}
